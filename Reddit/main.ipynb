{
 "cells": [
  {
   "cell_type": "code",
   "execution_count": 8,
   "metadata": {},
   "outputs": [
    {
     "data": {
      "text/plain": [
       "Data(x=[232965, 602], edge_index=[2, 114615892], y=[232965], train_mask=[232965], val_mask=[232965], test_mask=[232965])"
      ]
     },
     "execution_count": 8,
     "metadata": {},
     "output_type": "execute_result"
    }
   ],
   "source": [
    "from torch_geometric.datasets import Reddit\n",
    "\n",
    "dataset = Reddit(root='/Dataset/PyG/Reddit/Raw')\n",
    "g = dataset.data \n",
    "g"
   ]
  },
  {
   "cell_type": "code",
   "execution_count": 9,
   "metadata": {},
   "outputs": [
    {
     "name": "stdout",
     "output_type": "stream",
     "text": [
      "41类，232965 (100%)\n",
      "15: 28272 (12%), 3: 15181 (6%), 18: 13999 (6%), 0: 13101 (5%), 38: 12797 (5%), 23: 12146 (5%), 8: 11187 (4%), 19: 10308 (4%), 22: 8222 (3%), 27: 5962 (2%), 40: 5112 (2%), 29: 5101 (2%), 33: 4960 (2%), 10: 4928 (2%), 14: 4854 (2%), 28: 4673 (2%), 31: 4570 (1%), 26: 4239 (1%), 37: 4233 (1%), 35: 4202 (1%), 36: 4180 (1%), 21: 4066 (1%), 6: 3952 (1%), 5: 3597 (1%), 1: 3550 (1%), 34: 3429 (1%), 2: 3302 (1%), 39: 3099 (1%), 11: 2964 (1%), 30: 2846 (1%), 13: 2731 (1%), 17: 2639 (1%), 4: 2322 (0%), 9: 2246 (0%), 7: 2138 (0%), 12: 1696 (0%), 25: 1659 (0%), 20: 1596 (0%), 32: 1575 (0%), 16: 1003 (0%), 24: 328 (0%)\n",
      "41类，153431 (65%)\n",
      "15: 16516 (10%), 3: 10589 (6%), 18: 9103 (5%), 0: 8457 (5%), 23: 8129 (5%), 8: 7679 (5%), 38: 7280 (4%), 19: 7072 (4%), 22: 5311 (3%), 27: 4056 (2%), 29: 3851 (2%), 33: 3376 (2%), 40: 3371 (2%), 10: 3336 (2%), 28: 3273 (2%), 31: 3224 (2%), 14: 3135 (2%), 26: 2884 (1%), 36: 2855 (1%), 35: 2841 (1%), 37: 2826 (1%), 6: 2803 (1%), 21: 2795 (1%), 5: 2384 (1%), 1: 2360 (1%), 34: 2276 (1%), 2: 2226 (1%), 39: 2107 (1%), 11: 2009 (1%), 13: 1881 (1%), 30: 1875 (1%), 17: 1647 (1%), 4: 1567 (1%), 7: 1481 (0%), 9: 1455 (0%), 25: 1152 (0%), 12: 1131 (0%), 32: 1096 (0%), 20: 1065 (0%), 16: 721 (0%), 24: 236 (0%)\n",
      "41类，23831 (10%)\n",
      "15: 3494 (14%), 38: 1655 (6%), 18: 1468 (6%), 0: 1437 (6%), 3: 1392 (5%), 23: 1240 (5%), 8: 991 (4%), 19: 948 (3%), 22: 846 (3%), 27: 599 (2%), 10: 520 (2%), 14: 515 (2%), 40: 503 (2%), 33: 466 (1%), 36: 435 (1%), 28: 435 (1%), 26: 417 (1%), 37: 403 (1%), 31: 401 (1%), 21: 396 (1%), 35: 392 (1%), 29: 371 (1%), 34: 360 (1%), 5: 358 (1%), 6: 350 (1%), 1: 333 (1%), 2: 333 (1%), 11: 298 (1%), 39: 281 (1%), 17: 274 (1%), 30: 267 (1%), 13: 253 (1%), 9: 238 (0%), 4: 230 (0%), 7: 193 (0%), 12: 161 (0%), 20: 160 (0%), 32: 157 (0%), 25: 156 (0%), 16: 88 (0%), 24: 17 (0%)\n",
      "41类，55703 (23%)\n",
      "15: 8262 (14%), 38: 3862 (6%), 18: 3428 (6%), 0: 3207 (5%), 3: 3200 (5%), 23: 2777 (4%), 8: 2517 (4%), 19: 2288 (4%), 22: 2065 (3%), 27: 1307 (2%), 40: 1238 (2%), 14: 1204 (2%), 33: 1118 (2%), 10: 1072 (1%), 37: 1004 (1%), 35: 969 (1%), 28: 965 (1%), 31: 945 (1%), 26: 938 (1%), 36: 890 (1%), 29: 879 (1%), 21: 875 (1%), 1: 857 (1%), 5: 855 (1%), 6: 799 (1%), 34: 793 (1%), 2: 743 (1%), 17: 718 (1%), 39: 711 (1%), 30: 704 (1%), 11: 657 (1%), 13: 597 (1%), 9: 553 (0%), 4: 525 (0%), 7: 464 (0%), 12: 404 (0%), 20: 371 (0%), 25: 351 (0%), 32: 322 (0%), 16: 194 (0%), 24: 75 (0%)\n"
     ]
    }
   ],
   "source": [
    "from collections import Counter \n",
    "\n",
    "\n",
    "def count_label(label, total):\n",
    "    N = len(label)\n",
    "    counter = Counter(label.tolist())\n",
    "    d = dict(counter)\n",
    "    \n",
    "    print(f\"{len(d)}类，{N} ({int(N * 100 / total)}%)\")\n",
    "    \n",
    "    sum_ = sum(d.values())\n",
    "    cnt_list = list(d.items())\n",
    "    cnt_list.sort(key=lambda x: -x[1])\n",
    "    \n",
    "    str_list = []\n",
    "    \n",
    "    for lb, cnt in cnt_list:\n",
    "        percent = int(cnt * 100 / sum_)\n",
    "        str_list.append(f\"{lb}: {cnt} ({percent}%)\") \n",
    "\n",
    "    print(', '.join(str_list))\n",
    "\n",
    "\n",
    "num_nodes = g.num_nodes \n",
    "feat = g.x \n",
    "edge_index = tuple(g.edge_index)\n",
    "label = g.y \n",
    "train_mask = g.train_mask\n",
    "val_mask = g.val_mask\n",
    "test_mask = g.test_mask\n",
    "\n",
    "count_label(label, num_nodes)\n",
    "count_label(label[train_mask], num_nodes)\n",
    "count_label(label[val_mask], num_nodes)\n",
    "count_label(label[test_mask], num_nodes)"
   ]
  },
  {
   "cell_type": "code",
   "execution_count": 10,
   "metadata": {},
   "outputs": [
    {
     "data": {
      "text/plain": [
       "Graph(num_nodes=232965, num_edges=114615892,\n",
       "      ndata_schemes={'feat': Scheme(shape=(602,), dtype=torch.float32), 'label': Scheme(shape=(), dtype=torch.int64), 'train_mask': Scheme(shape=(), dtype=torch.bool), 'val_mask': Scheme(shape=(), dtype=torch.bool), 'test_mask': Scheme(shape=(), dtype=torch.bool)}\n",
       "      edata_schemes={})"
      ]
     },
     "execution_count": 10,
     "metadata": {},
     "output_type": "execute_result"
    }
   ],
   "source": [
    "import dgl \n",
    "\n",
    "g = dgl.graph(edge_index, num_nodes=num_nodes)\n",
    "g.ndata['feat'] = feat \n",
    "g.ndata['label'] = label\n",
    "g.ndata['train_mask'] = train_mask\n",
    "g.ndata['val_mask'] = val_mask\n",
    "g.ndata['test_mask'] = test_mask\n",
    "\n",
    "g"
   ]
  },
  {
   "cell_type": "code",
   "execution_count": 11,
   "metadata": {},
   "outputs": [
    {
     "data": {
      "text/plain": [
       "Graph(num_nodes=232965, num_edges=114848857,\n",
       "      ndata_schemes={'feat': Scheme(shape=(602,), dtype=torch.float32), 'label': Scheme(shape=(), dtype=torch.int64), 'train_mask': Scheme(shape=(), dtype=torch.bool), 'val_mask': Scheme(shape=(), dtype=torch.bool), 'test_mask': Scheme(shape=(), dtype=torch.bool)}\n",
       "      edata_schemes={})"
      ]
     },
     "execution_count": 11,
     "metadata": {},
     "output_type": "execute_result"
    }
   ],
   "source": [
    "import pickle \n",
    "\n",
    "g = dgl.to_bidirected(g, copy_ndata=True)\n",
    "g = dgl.add_self_loop(dgl.remove_self_loop(g))\n",
    "\n",
    "with open('/Dataset/PyG/Reddit/Processed/Reddit.dglg.pkl', 'wb') as fp:\n",
    "    pickle.dump(g, fp)\n",
    "\n",
    "g "
   ]
  }
 ],
 "metadata": {
  "kernelspec": {
   "display_name": "Python 3.9.7 ('base')",
   "language": "python",
   "name": "python3"
  },
  "language_info": {
   "codemirror_mode": {
    "name": "ipython",
    "version": 3
   },
   "file_extension": ".py",
   "mimetype": "text/x-python",
   "name": "python",
   "nbconvert_exporter": "python",
   "pygments_lexer": "ipython3",
   "version": "3.9.7"
  },
  "orig_nbformat": 4,
  "vscode": {
   "interpreter": {
    "hash": "db203275a0662fbdba278253e7b36bd0b0deda9dd533b0aa2c1408581fb76a05"
   }
  }
 },
 "nbformat": 4,
 "nbformat_minor": 2
}
