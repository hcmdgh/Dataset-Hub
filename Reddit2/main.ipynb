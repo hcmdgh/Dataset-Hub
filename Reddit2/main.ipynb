{
 "cells": [
  {
   "cell_type": "code",
   "execution_count": 1,
   "metadata": {},
   "outputs": [
    {
     "data": {
      "text/plain": [
       "Data(x=[232965, 602], edge_index=[2, 23213838], y=[232965], train_mask=[232965], val_mask=[232965], test_mask=[232965])"
      ]
     },
     "execution_count": 1,
     "metadata": {},
     "output_type": "execute_result"
    }
   ],
   "source": [
    "from torch_geometric.datasets import Reddit2\n",
    "\n",
    "dataset = Reddit2(root='/Dataset/PyG/Reddit2/Raw')\n",
    "g = dataset.data \n",
    "g"
   ]
  },
  {
   "cell_type": "code",
   "execution_count": 2,
   "metadata": {},
   "outputs": [
    {
     "name": "stdout",
     "output_type": "stream",
     "text": [
      "41类，232965 (100%)\n",
      "15: 28272 (12%), 3: 15181 (6%), 18: 13999 (6%), 0: 13101 (5%), 38: 12797 (5%), 23: 12146 (5%), 8: 11187 (4%), 19: 10308 (4%), 22: 8222 (3%), 27: 5962 (2%), 40: 5112 (2%), 29: 5101 (2%), 33: 4960 (2%), 10: 4928 (2%), 14: 4854 (2%), 28: 4673 (2%), 31: 4570 (1%), 26: 4239 (1%), 37: 4233 (1%), 35: 4202 (1%), 36: 4180 (1%), 21: 4066 (1%), 6: 3952 (1%), 5: 3597 (1%), 1: 3550 (1%), 34: 3429 (1%), 2: 3302 (1%), 39: 3099 (1%), 11: 2964 (1%), 30: 2846 (1%), 13: 2731 (1%), 17: 2639 (1%), 4: 2322 (0%), 9: 2246 (0%), 7: 2138 (0%), 12: 1696 (0%), 25: 1659 (0%), 20: 1596 (0%), 32: 1575 (0%), 16: 1003 (0%), 24: 328 (0%)\n",
      "41类，153932 (66%)\n",
      "15: 16563 (10%), 3: 10593 (6%), 18: 9112 (5%), 0: 8471 (5%), 23: 8155 (5%), 8: 7689 (4%), 38: 7297 (4%), 19: 7093 (4%), 22: 5415 (3%), 27: 4090 (2%), 29: 3864 (2%), 33: 3382 (2%), 40: 3374 (2%), 10: 3346 (2%), 28: 3274 (2%), 31: 3230 (2%), 14: 3137 (2%), 26: 2892 (1%), 36: 2858 (1%), 35: 2849 (1%), 37: 2838 (1%), 6: 2807 (1%), 21: 2802 (1%), 5: 2389 (1%), 1: 2362 (1%), 34: 2279 (1%), 2: 2234 (1%), 39: 2141 (1%), 11: 2010 (1%), 13: 1898 (1%), 30: 1894 (1%), 17: 1653 (1%), 4: 1576 (1%), 7: 1487 (0%), 9: 1461 (0%), 25: 1158 (0%), 12: 1131 (0%), 32: 1101 (0%), 20: 1067 (0%), 16: 724 (0%), 24: 236 (0%)\n",
      "41类，23699 (10%)\n",
      "15: 3481 (14%), 38: 1650 (6%), 18: 1466 (6%), 0: 1435 (6%), 3: 1391 (5%), 23: 1232 (5%), 8: 987 (4%), 19: 942 (3%), 22: 819 (3%), 27: 594 (2%), 10: 519 (2%), 14: 514 (2%), 40: 502 (2%), 33: 464 (1%), 28: 435 (1%), 36: 433 (1%), 26: 416 (1%), 37: 400 (1%), 31: 399 (1%), 21: 393 (1%), 35: 388 (1%), 29: 366 (1%), 34: 360 (1%), 5: 358 (1%), 6: 348 (1%), 1: 333 (1%), 2: 332 (1%), 11: 298 (1%), 17: 272 (1%), 39: 272 (1%), 30: 262 (1%), 13: 252 (1%), 9: 237 (1%), 4: 227 (0%), 7: 189 (0%), 12: 161 (0%), 20: 160 (0%), 32: 155 (0%), 25: 154 (0%), 16: 86 (0%), 24: 17 (0%)\n",
      "41类，55334 (23%)\n",
      "15: 8228 (14%), 38: 3850 (6%), 18: 3421 (6%), 3: 3197 (5%), 0: 3195 (5%), 23: 2759 (4%), 8: 2511 (4%), 19: 2273 (4%), 22: 1988 (3%), 27: 1278 (2%), 40: 1236 (2%), 14: 1203 (2%), 33: 1114 (2%), 10: 1063 (1%), 37: 995 (1%), 35: 965 (1%), 28: 964 (1%), 31: 941 (1%), 26: 931 (1%), 36: 889 (1%), 21: 871 (1%), 29: 871 (1%), 1: 855 (1%), 5: 850 (1%), 6: 797 (1%), 34: 790 (1%), 2: 736 (1%), 17: 714 (1%), 30: 690 (1%), 39: 686 (1%), 11: 656 (1%), 13: 581 (1%), 9: 548 (0%), 4: 519 (0%), 7: 462 (0%), 12: 404 (0%), 20: 369 (0%), 25: 347 (0%), 32: 319 (0%), 16: 193 (0%), 24: 75 (0%)\n"
     ]
    }
   ],
   "source": [
    "from collections import Counter \n",
    "\n",
    "\n",
    "def count_label(label, total):\n",
    "    N = len(label)\n",
    "    counter = Counter(label.tolist())\n",
    "    d = dict(counter)\n",
    "    \n",
    "    print(f\"{len(d)}类，{N} ({int(N * 100 / total)}%)\")\n",
    "    \n",
    "    sum_ = sum(d.values())\n",
    "    cnt_list = list(d.items())\n",
    "    cnt_list.sort(key=lambda x: -x[1])\n",
    "    \n",
    "    str_list = []\n",
    "    \n",
    "    for lb, cnt in cnt_list:\n",
    "        percent = int(cnt * 100 / sum_)\n",
    "        str_list.append(f\"{lb}: {cnt} ({percent}%)\") \n",
    "\n",
    "    print(', '.join(str_list))\n",
    "\n",
    "\n",
    "num_nodes = g.num_nodes \n",
    "feat = g.x \n",
    "edge_index = tuple(g.edge_index)\n",
    "label = g.y \n",
    "train_mask = g.train_mask\n",
    "val_mask = g.val_mask\n",
    "test_mask = g.test_mask\n",
    "\n",
    "count_label(label, num_nodes)\n",
    "count_label(label[train_mask], num_nodes)\n",
    "count_label(label[val_mask], num_nodes)\n",
    "count_label(label[test_mask], num_nodes)"
   ]
  },
  {
   "cell_type": "code",
   "execution_count": 3,
   "metadata": {},
   "outputs": [
    {
     "data": {
      "text/plain": [
       "Graph(num_nodes=232965, num_edges=23213838,\n",
       "      ndata_schemes={'feat': Scheme(shape=(602,), dtype=torch.float32), 'label': Scheme(shape=(), dtype=torch.int64), 'train_mask': Scheme(shape=(), dtype=torch.bool), 'val_mask': Scheme(shape=(), dtype=torch.bool), 'test_mask': Scheme(shape=(), dtype=torch.bool)}\n",
       "      edata_schemes={})"
      ]
     },
     "execution_count": 3,
     "metadata": {},
     "output_type": "execute_result"
    }
   ],
   "source": [
    "import dgl \n",
    "\n",
    "g = dgl.graph(edge_index, num_nodes=num_nodes)\n",
    "g.ndata['feat'] = feat \n",
    "g.ndata['label'] = label\n",
    "g.ndata['train_mask'] = train_mask\n",
    "g.ndata['val_mask'] = val_mask\n",
    "g.ndata['test_mask'] = test_mask\n",
    "\n",
    "g"
   ]
  },
  {
   "cell_type": "code",
   "execution_count": 4,
   "metadata": {},
   "outputs": [
    {
     "data": {
      "text/plain": [
       "Graph(num_nodes=232965, num_edges=23446803,\n",
       "      ndata_schemes={'feat': Scheme(shape=(602,), dtype=torch.float32), 'label': Scheme(shape=(), dtype=torch.int64), 'train_mask': Scheme(shape=(), dtype=torch.bool), 'val_mask': Scheme(shape=(), dtype=torch.bool), 'test_mask': Scheme(shape=(), dtype=torch.bool)}\n",
       "      edata_schemes={})"
      ]
     },
     "execution_count": 4,
     "metadata": {},
     "output_type": "execute_result"
    }
   ],
   "source": [
    "import pickle \n",
    "\n",
    "g = dgl.to_bidirected(g, copy_ndata=True)\n",
    "g = dgl.add_self_loop(dgl.remove_self_loop(g))\n",
    "\n",
    "with open('/Dataset/PyG/Reddit2/Processed/Reddit2.dglg.pkl', 'wb') as fp:\n",
    "    pickle.dump(g, fp)\n",
    "\n",
    "g "
   ]
  }
 ],
 "metadata": {
  "kernelspec": {
   "display_name": "Python 3.9.7 ('base')",
   "language": "python",
   "name": "python3"
  },
  "language_info": {
   "codemirror_mode": {
    "name": "ipython",
    "version": 3
   },
   "file_extension": ".py",
   "mimetype": "text/x-python",
   "name": "python",
   "nbconvert_exporter": "python",
   "pygments_lexer": "ipython3",
   "version": "3.9.7"
  },
  "orig_nbformat": 4,
  "vscode": {
   "interpreter": {
    "hash": "db203275a0662fbdba278253e7b36bd0b0deda9dd533b0aa2c1408581fb76a05"
   }
  }
 },
 "nbformat": 4,
 "nbformat_minor": 2
}
