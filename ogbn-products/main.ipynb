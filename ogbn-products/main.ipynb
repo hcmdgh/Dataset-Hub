{
 "cells": [
  {
   "cell_type": "code",
   "execution_count": 4,
   "metadata": {},
   "outputs": [
    {
     "data": {
      "text/plain": [
       "Data(num_nodes=2449029, edge_index=[2, 123718280], x=[2449029, 100], y=[2449029, 1])"
      ]
     },
     "execution_count": 4,
     "metadata": {},
     "output_type": "execute_result"
    }
   ],
   "source": [
    "from ogb.nodeproppred import PygNodePropPredDataset\n",
    "import torch \n",
    "\n",
    "dataset = PygNodePropPredDataset(name='ogbn-products', root='/Dataset/OGB/ogbn-products/Raw') \n",
    "\n",
    "split_idx = dataset.get_idx_split()\n",
    "train_idx, val_idx, test_idx = split_idx[\"train\"], split_idx[\"valid\"], split_idx[\"test\"]\n",
    "\n",
    "g = dataset[0]\n",
    "g"
   ]
  },
  {
   "cell_type": "code",
   "execution_count": 5,
   "metadata": {},
   "outputs": [
    {
     "name": "stdout",
     "output_type": "stream",
     "text": [
      "47类，2449029 (100%)\n",
      "4: 668950 (27%), 7: 172199 (7%), 6: 158771 (6%), 3: 151061 (6%), 12: 131886 (5%), 2: 116043 (4%), 0: 114294 (4%), 8: 110796 (4%), 1: 109832 (4%), 13: 101541 (4%), 16: 83594 (3%), 21: 80795 (3%), 9: 67358 (2%), 10: 52345 (2%), 18: 49019 (2%), 24: 45406 (1%), 17: 42337 (1%), 5: 40715 (1%), 11: 32937 (1%), 42: 32500 (1%), 15: 26911 (1%), 20: 22575 (0%), 19: 17438 (0%), 23: 3653 (0%), 14: 3079 (0%), 25: 3024 (0%), 28: 1969 (0%), 29: 1561 (0%), 43: 1399 (0%), 22: 879 (0%), 36: 630 (0%), 44: 566 (0%), 26: 553 (0%), 37: 514 (0%), 32: 513 (0%), 31: 418 (0%), 30: 277 (0%), 27: 259 (0%), 34: 154 (0%), 38: 91 (0%), 41: 61 (0%), 35: 44 (0%), 39: 37 (0%), 33: 29 (0%), 45: 9 (0%), 40: 6 (0%), 46: 1 (0%)\n",
      "42类，196615 (8%)\n",
      "4: 60630 (30%), 7: 16615 (8%), 6: 15305 (7%), 3: 13153 (6%), 1: 12290 (6%), 0: 11332 (5%), 2: 10941 (5%), 8: 10926 (5%), 13: 10757 (5%), 9: 6266 (3%), 10: 4311 (2%), 17: 4245 (2%), 5: 3932 (1%), 11: 3348 (1%), 12: 2755 (1%), 15: 2515 (1%), 20: 2047 (1%), 21: 1313 (0%), 19: 1237 (0%), 18: 662 (0%), 23: 526 (0%), 16: 461 (0%), 14: 287 (0%), 24: 200 (0%), 29: 152 (0%), 25: 93 (0%), 28: 84 (0%), 26: 75 (0%), 22: 64 (0%), 32: 33 (0%), 31: 25 (0%), 30: 9 (0%), 35: 8 (0%), 27: 4 (0%), 33: 3 (0%), 37: 3 (0%), 34: 2 (0%), 36: 2 (0%), 38: 1 (0%), 39: 1 (0%), 40: 1 (0%), 41: 1 (0%)\n",
      "34类，39323 (1%)\n",
      "4: 12125 (30%), 7: 3382 (8%), 6: 3110 (7%), 3: 2653 (6%), 1: 2306 (5%), 0: 2292 (5%), 2: 2232 (5%), 8: 2191 (5%), 13: 2090 (5%), 9: 1240 (3%), 10: 869 (2%), 17: 865 (2%), 5: 798 (2%), 11: 656 (1%), 15: 525 (1%), 12: 499 (1%), 20: 438 (1%), 21: 246 (0%), 19: 244 (0%), 18: 129 (0%), 16: 114 (0%), 23: 80 (0%), 24: 59 (0%), 14: 58 (0%), 29: 36 (0%), 28: 20 (0%), 25: 19 (0%), 22: 13 (0%), 30: 11 (0%), 32: 10 (0%), 26: 6 (0%), 31: 5 (0%), 33: 1 (0%), 27: 1 (0%)\n",
      "47类，2213091 (90%)\n",
      "4: 596195 (26%), 7: 152202 (6%), 6: 140356 (6%), 3: 135255 (6%), 12: 128632 (5%), 2: 102870 (4%), 0: 100670 (4%), 8: 97679 (4%), 1: 95236 (4%), 13: 88694 (4%), 16: 83019 (3%), 21: 79236 (3%), 9: 59852 (2%), 18: 48228 (2%), 10: 47165 (2%), 24: 45147 (2%), 17: 37227 (1%), 5: 35985 (1%), 42: 32500 (1%), 11: 28933 (1%), 15: 23871 (1%), 20: 20090 (0%), 19: 15957 (0%), 23: 3047 (0%), 25: 2912 (0%), 14: 2734 (0%), 28: 1865 (0%), 43: 1399 (0%), 29: 1373 (0%), 22: 802 (0%), 36: 628 (0%), 44: 566 (0%), 37: 511 (0%), 26: 472 (0%), 32: 470 (0%), 31: 388 (0%), 30: 257 (0%), 27: 254 (0%), 34: 152 (0%), 38: 90 (0%), 41: 60 (0%), 39: 36 (0%), 35: 36 (0%), 33: 25 (0%), 45: 9 (0%), 40: 5 (0%), 46: 1 (0%)\n"
     ]
    }
   ],
   "source": [
    "from collections import Counter \n",
    "\n",
    "\n",
    "def count_label(label, total):\n",
    "    N = len(label)\n",
    "    counter = Counter(label.tolist())\n",
    "    d = dict(counter)\n",
    "    \n",
    "    print(f\"{len(d)}类，{N} ({int(N * 100 / total)}%)\")\n",
    "    \n",
    "    sum_ = sum(d.values())\n",
    "    cnt_list = list(d.items())\n",
    "    cnt_list.sort(key=lambda x: -x[1])\n",
    "    \n",
    "    str_list = []\n",
    "    \n",
    "    for lb, cnt in cnt_list:\n",
    "        percent = int(cnt * 100 / sum_)\n",
    "        str_list.append(f\"{lb}: {cnt} ({percent}%)\") \n",
    "\n",
    "    print(', '.join(str_list))\n",
    "\n",
    "\n",
    "num_nodes = g.num_nodes \n",
    "feat = g.x \n",
    "edge_index = tuple(g.edge_index)\n",
    "label = g.y.squeeze()\n",
    "train_mask = torch.zeros(num_nodes, dtype=torch.bool)\n",
    "val_mask = torch.zeros(num_nodes, dtype=torch.bool)\n",
    "test_mask = torch.zeros(num_nodes, dtype=torch.bool)\n",
    "train_mask[train_idx.squeeze()] = True \n",
    "val_mask[val_idx.squeeze()] = True \n",
    "test_mask[test_idx.squeeze()] = True \n",
    "\n",
    "count_label(label, num_nodes)\n",
    "count_label(label[train_mask], num_nodes)\n",
    "count_label(label[val_mask], num_nodes)\n",
    "count_label(label[test_mask], num_nodes)"
   ]
  },
  {
   "cell_type": "code",
   "execution_count": 6,
   "metadata": {},
   "outputs": [
    {
     "data": {
      "text/plain": [
       "Graph(num_nodes=2449029, num_edges=123718280,\n",
       "      ndata_schemes={'feat': Scheme(shape=(100,), dtype=torch.float32), 'label': Scheme(shape=(), dtype=torch.int64), 'train_mask': Scheme(shape=(), dtype=torch.bool), 'val_mask': Scheme(shape=(), dtype=torch.bool), 'test_mask': Scheme(shape=(), dtype=torch.bool)}\n",
       "      edata_schemes={})"
      ]
     },
     "execution_count": 6,
     "metadata": {},
     "output_type": "execute_result"
    }
   ],
   "source": [
    "import dgl \n",
    "\n",
    "g = dgl.graph(edge_index, num_nodes=num_nodes)\n",
    "g.ndata['feat'] = feat \n",
    "g.ndata['label'] = label\n",
    "g.ndata['train_mask'] = train_mask\n",
    "g.ndata['val_mask'] = val_mask\n",
    "g.ndata['test_mask'] = test_mask\n",
    "\n",
    "g"
   ]
  },
  {
   "cell_type": "code",
   "execution_count": 7,
   "metadata": {},
   "outputs": [
    {
     "data": {
      "text/plain": [
       "Graph(num_nodes=2449029, num_edges=126167053,\n",
       "      ndata_schemes={'feat': Scheme(shape=(100,), dtype=torch.float32), 'label': Scheme(shape=(), dtype=torch.int64), 'train_mask': Scheme(shape=(), dtype=torch.bool), 'val_mask': Scheme(shape=(), dtype=torch.bool), 'test_mask': Scheme(shape=(), dtype=torch.bool)}\n",
       "      edata_schemes={})"
      ]
     },
     "execution_count": 7,
     "metadata": {},
     "output_type": "execute_result"
    }
   ],
   "source": [
    "import pickle \n",
    "\n",
    "g = dgl.to_bidirected(g, copy_ndata=True)\n",
    "g = dgl.add_self_loop(dgl.remove_self_loop(g))\n",
    "\n",
    "with open('/Dataset/OGB/ogbn-products/Processed/ogbn-products.dglg.pkl', 'wb') as fp:\n",
    "    pickle.dump(g, fp)\n",
    "\n",
    "g "
   ]
  }
 ],
 "metadata": {
  "kernelspec": {
   "display_name": "Python 3.9.12 ('base')",
   "language": "python",
   "name": "python3"
  },
  "language_info": {
   "codemirror_mode": {
    "name": "ipython",
    "version": 3
   },
   "file_extension": ".py",
   "mimetype": "text/x-python",
   "name": "python",
   "nbconvert_exporter": "python",
   "pygments_lexer": "ipython3",
   "version": "3.9.12"
  },
  "orig_nbformat": 4,
  "vscode": {
   "interpreter": {
    "hash": "2f394aca7ca06fed1e6064aef884364492d7cdda3614a461e02e6407fc40ba69"
   }
  }
 },
 "nbformat": 4,
 "nbformat_minor": 2
}
