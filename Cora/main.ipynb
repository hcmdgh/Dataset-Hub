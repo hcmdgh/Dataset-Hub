{
 "cells": [
  {
   "cell_type": "code",
   "execution_count": 2,
   "metadata": {},
   "outputs": [
    {
     "data": {
      "text/plain": [
       "Data(x=[2708, 1433], edge_index=[2, 10556], y=[2708], train_mask=[2708], val_mask=[2708], test_mask=[2708])"
      ]
     },
     "execution_count": 2,
     "metadata": {},
     "output_type": "execute_result"
    }
   ],
   "source": [
    "from torch_geometric.datasets import Planetoid\n",
    "\n",
    "dataset = Planetoid(name='Cora', root='/Dataset/PyG/Cora/Raw')\n",
    "g = dataset.data \n",
    "g"
   ]
  },
  {
   "cell_type": "code",
   "execution_count": 3,
   "metadata": {},
   "outputs": [
    {
     "name": "stdout",
     "output_type": "stream",
     "text": [
      "7类，2708 (100%)\n",
      "3: 818 (30%), 4: 426 (15%), 2: 418 (15%), 0: 351 (12%), 5: 298 (11%), 1: 217 (8%), 6: 180 (6%)\n",
      "7类，140 (5%)\n",
      "3: 20 (14%), 4: 20 (14%), 0: 20 (14%), 2: 20 (14%), 1: 20 (14%), 5: 20 (14%), 6: 20 (14%)\n",
      "7类，500 (18%)\n",
      "3: 158 (31%), 4: 81 (16%), 2: 78 (15%), 0: 61 (12%), 5: 57 (11%), 1: 36 (7%), 6: 29 (5%)\n",
      "7类，1000 (36%)\n",
      "3: 319 (31%), 4: 149 (14%), 2: 144 (14%), 0: 130 (13%), 5: 103 (10%), 1: 91 (9%), 6: 64 (6%)\n"
     ]
    }
   ],
   "source": [
    "from collections import Counter \n",
    "\n",
    "\n",
    "def count_label(label, total):\n",
    "    N = len(label)\n",
    "    counter = Counter(label.tolist())\n",
    "    d = dict(counter)\n",
    "    \n",
    "    print(f\"{len(d)}类，{N} ({int(N * 100 / total)}%)\")\n",
    "    \n",
    "    sum_ = sum(d.values())\n",
    "    cnt_list = list(d.items())\n",
    "    cnt_list.sort(key=lambda x: -x[1])\n",
    "    \n",
    "    str_list = []\n",
    "    \n",
    "    for lb, cnt in cnt_list:\n",
    "        percent = int(cnt * 100 / sum_)\n",
    "        str_list.append(f\"{lb}: {cnt} ({percent}%)\") \n",
    "\n",
    "    print(', '.join(str_list))\n",
    "\n",
    "\n",
    "num_nodes = g.num_nodes \n",
    "feat = g.x \n",
    "edge_index = tuple(g.edge_index)\n",
    "label = g.y \n",
    "train_mask = g.train_mask\n",
    "val_mask = g.val_mask\n",
    "test_mask = g.test_mask\n",
    "\n",
    "count_label(label, num_nodes)\n",
    "count_label(label[train_mask], num_nodes)\n",
    "count_label(label[val_mask], num_nodes)\n",
    "count_label(label[test_mask], num_nodes)"
   ]
  },
  {
   "cell_type": "code",
   "execution_count": 4,
   "metadata": {},
   "outputs": [
    {
     "data": {
      "text/plain": [
       "Graph(num_nodes=2708, num_edges=10556,\n",
       "      ndata_schemes={'feat': Scheme(shape=(1433,), dtype=torch.float32), 'label': Scheme(shape=(), dtype=torch.int64), 'train_mask': Scheme(shape=(), dtype=torch.bool), 'val_mask': Scheme(shape=(), dtype=torch.bool), 'test_mask': Scheme(shape=(), dtype=torch.bool)}\n",
       "      edata_schemes={})"
      ]
     },
     "execution_count": 4,
     "metadata": {},
     "output_type": "execute_result"
    }
   ],
   "source": [
    "import dgl \n",
    "\n",
    "g = dgl.graph(edge_index, num_nodes=num_nodes)\n",
    "g.ndata['feat'] = feat \n",
    "g.ndata['label'] = label\n",
    "g.ndata['train_mask'] = train_mask\n",
    "g.ndata['val_mask'] = val_mask\n",
    "g.ndata['test_mask'] = test_mask\n",
    "\n",
    "g"
   ]
  },
  {
   "cell_type": "code",
   "execution_count": 5,
   "metadata": {},
   "outputs": [
    {
     "data": {
      "text/plain": [
       "Graph(num_nodes=2708, num_edges=13264,\n",
       "      ndata_schemes={'feat': Scheme(shape=(1433,), dtype=torch.float32), 'label': Scheme(shape=(), dtype=torch.int64), 'train_mask': Scheme(shape=(), dtype=torch.bool), 'val_mask': Scheme(shape=(), dtype=torch.bool), 'test_mask': Scheme(shape=(), dtype=torch.bool)}\n",
       "      edata_schemes={})"
      ]
     },
     "execution_count": 5,
     "metadata": {},
     "output_type": "execute_result"
    }
   ],
   "source": [
    "import pickle \n",
    "\n",
    "g = dgl.to_bidirected(g, copy_ndata=True)\n",
    "g = dgl.add_self_loop(dgl.remove_self_loop(g))\n",
    "\n",
    "with open('/Dataset/PyG/Cora/Processed/Cora.dglg.pkl', 'wb') as fp:\n",
    "    pickle.dump(g, fp)\n",
    "\n",
    "g "
   ]
  }
 ],
 "metadata": {
  "kernelspec": {
   "display_name": "Python 3.9.7 ('base')",
   "language": "python",
   "name": "python3"
  },
  "language_info": {
   "codemirror_mode": {
    "name": "ipython",
    "version": 3
   },
   "file_extension": ".py",
   "mimetype": "text/x-python",
   "name": "python",
   "nbconvert_exporter": "python",
   "pygments_lexer": "ipython3",
   "version": "3.9.7"
  },
  "orig_nbformat": 4,
  "vscode": {
   "interpreter": {
    "hash": "db203275a0662fbdba278253e7b36bd0b0deda9dd533b0aa2c1408581fb76a05"
   }
  }
 },
 "nbformat": 4,
 "nbformat_minor": 2
}
