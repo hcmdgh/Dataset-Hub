{
 "cells": [
  {
   "cell_type": "code",
   "execution_count": 6,
   "metadata": {},
   "outputs": [
    {
     "data": {
      "text/plain": [
       "Data(x=[13752, 767], edge_index=[2, 491722], y=[13752])"
      ]
     },
     "execution_count": 6,
     "metadata": {},
     "output_type": "execute_result"
    }
   ],
   "source": [
    "from torch_geometric.datasets import Amazon \n",
    "\n",
    "dataset = Amazon(name='Computers', root='/Dataset/PyG/Amazon-Computers/Raw')\n",
    "g = dataset.data \n",
    "g"
   ]
  },
  {
   "cell_type": "code",
   "execution_count": 7,
   "metadata": {},
   "outputs": [
    {
     "name": "stdout",
     "output_type": "stream",
     "text": [
      "10类，13752 (100%)\n",
      "4: 5158 (37%), 8: 2156 (15%), 1: 2142 (15%), 2: 1414 (10%), 7: 818 (5%), 3: 542 (3%), 6: 487 (3%), 0: 436 (3%), 5: 308 (2%), 9: 291 (2%)\n"
     ]
    }
   ],
   "source": [
    "from collections import Counter \n",
    "\n",
    "\n",
    "def count_label(label, total):\n",
    "    N = len(label)\n",
    "    counter = Counter(label.tolist())\n",
    "    d = dict(counter)\n",
    "    \n",
    "    print(f\"{len(d)}类，{N} ({int(N * 100 / total)}%)\")\n",
    "    \n",
    "    sum_ = sum(d.values())\n",
    "    cnt_list = list(d.items())\n",
    "    cnt_list.sort(key=lambda x: -x[1])\n",
    "    \n",
    "    str_list = []\n",
    "    \n",
    "    for lb, cnt in cnt_list:\n",
    "        percent = int(cnt * 100 / sum_)\n",
    "        str_list.append(f\"{lb}: {cnt} ({percent}%)\") \n",
    "\n",
    "    print(', '.join(str_list))\n",
    "\n",
    "\n",
    "num_nodes = g.num_nodes \n",
    "feat = g.x \n",
    "edge_index = tuple(g.edge_index)\n",
    "label = g.y \n",
    "\n",
    "count_label(label, num_nodes)"
   ]
  },
  {
   "cell_type": "code",
   "execution_count": 8,
   "metadata": {},
   "outputs": [
    {
     "data": {
      "text/plain": [
       "Graph(num_nodes=13752, num_edges=491722,\n",
       "      ndata_schemes={'feat': Scheme(shape=(767,), dtype=torch.float32), 'label': Scheme(shape=(), dtype=torch.int64)}\n",
       "      edata_schemes={})"
      ]
     },
     "execution_count": 8,
     "metadata": {},
     "output_type": "execute_result"
    }
   ],
   "source": [
    "import dgl \n",
    "\n",
    "g = dgl.graph(edge_index, num_nodes=num_nodes)\n",
    "g.ndata['feat'] = feat \n",
    "g.ndata['label'] = label\n",
    "\n",
    "g"
   ]
  },
  {
   "cell_type": "code",
   "execution_count": 9,
   "metadata": {},
   "outputs": [
    {
     "data": {
      "text/plain": [
       "Graph(num_nodes=13752, num_edges=505474,\n",
       "      ndata_schemes={'feat': Scheme(shape=(767,), dtype=torch.float32), 'label': Scheme(shape=(), dtype=torch.int64)}\n",
       "      edata_schemes={})"
      ]
     },
     "execution_count": 9,
     "metadata": {},
     "output_type": "execute_result"
    }
   ],
   "source": [
    "import pickle \n",
    "\n",
    "g = dgl.to_bidirected(g, copy_ndata=True)\n",
    "g = dgl.add_self_loop(dgl.remove_self_loop(g))\n",
    "\n",
    "with open('/Dataset/PyG/Amazon-Computers/Processed/Amazon-Computers.dglg.pkl', 'wb') as fp:\n",
    "    pickle.dump(g, fp)\n",
    "\n",
    "g "
   ]
  }
 ],
 "metadata": {
  "kernelspec": {
   "display_name": "Python 3.9.12 ('base')",
   "language": "python",
   "name": "python3"
  },
  "language_info": {
   "codemirror_mode": {
    "name": "ipython",
    "version": 3
   },
   "file_extension": ".py",
   "mimetype": "text/x-python",
   "name": "python",
   "nbconvert_exporter": "python",
   "pygments_lexer": "ipython3",
   "version": "3.9.12"
  },
  "orig_nbformat": 4,
  "vscode": {
   "interpreter": {
    "hash": "2f394aca7ca06fed1e6064aef884364492d7cdda3614a461e02e6407fc40ba69"
   }
  }
 },
 "nbformat": 4,
 "nbformat_minor": 2
}
